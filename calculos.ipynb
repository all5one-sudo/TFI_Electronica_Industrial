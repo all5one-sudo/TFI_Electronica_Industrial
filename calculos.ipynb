{
 "cells": [
  {
   "cell_type": "markdown",
   "metadata": {},
   "source": [
    "# Convertidor semi puente boost compacto (CSPBC)"
   ]
  },
  {
   "cell_type": "code",
   "execution_count": 102,
   "metadata": {},
   "outputs": [],
   "source": [
    "import numpy as np\n",
    "import matplotlib.pyplot as plt\n",
    "import pandas as pd\n",
    "import seaborn as sns\n",
    "import xmlrpc.client as xml\n",
    "from scipy.optimize import fsolve, minimize"
   ]
  },
  {
   "cell_type": "markdown",
   "metadata": {},
   "source": [
    "Se espera obtener un conversor que tenga:\n",
    "\n",
    "- $V_o=400 \\ V_{DC}$\n",
    "- $V_i=48 \\ V_{DC}$\n",
    "- $0 < I_o < 40 \\ A$\n",
    "- Se pueden conectar en paralelo."
   ]
  },
  {
   "cell_type": "markdown",
   "metadata": {},
   "source": [
    "### Características deseadas en el convertidor\n",
    "\n",
    "Se decide por construir un conversor de $4 \\ kW$, de forma de aproximar la salida a la máxima corriente solicitada como variación, y se define a la tensión de entrada como $V_{in(max)}=288V$, que equivale a 6 paneles en serie. La frecuencia de conmutación será de $f_s=50 \\ kHz$, $T_s=20 \\ \\mu s$. Se tiene entonces que las tensiones y corrientes del convertidor se definen como la tensión de salida nominal referida al primario del transformador y la corriente máxima de salida nominal referida al primario. Así, se tiene:\n",
    "\n",
    "- $V_{oB}'=n400V$\n",
    "- $I_{oB}'=\\frac{P_n}{nV_o}=\\frac{11.25}{n}A$\n",
    "\n",
    "### Definición de la relación de vueltas del transformador y el rango de tensión de entrada\n",
    "\n",
    "Para trabajar en conmutación suave, es conveniente trabajar con un rango de tensión de entrada de:\n",
    "$$0.42 < V_{inpu} <0.9$$\n",
    "\n",
    "Por lo que se limita en $V_{inpu} <0.9$. Ahora, si reemplazo esa igualdad en el valor de tensión base, se obtiene:\n",
    "\n",
    "$$n > \\frac{V_{in(max)}}{0.9V_{oB}} = 0.8$$\n",
    "\n",
    "Con ese valor de conversión, resulta $V_{oB}'=320V$ y $I_{oB}'=14.06A$. Por la condición de arranque suave, y la máxima tensión definida anteriormente, se tiene que $134.4V < V_{in} < 288 V$.\n",
    "\n",
    "### Definición de los valores de inductancia de dispersión y magnetización del transformador\n",
    "\n",
    "La impedancia base del convertidor a implementar está dada por:\n",
    "\n",
    "$$ R_B=\\frac{V_{oB}'}{I_{oB}'} = \\frac{320V}{14.06A} = 22.76 \\Omega$$\n",
    "\n",
    "Como el período de la señal de conmutación es $T_{sB}=20 \\mu s$ y la inductancia $L_B=\\frac{R_B T_B}{2\\pi}=72.45 \\mu H$. Este último valor se usa para la inductancia de magnetización, y para la de dispersión se usa un 10% de la recientemente calculada.\n",
    "\n",
    "### Definición de los valores de los capacitores del semipuente\n",
    "\n",
    "Se definen:\n",
    "\n",
    "- $C_L=100\\mu F$\n",
    "- $C_U=22 \\mu F$\n",
    "- $C_{RL}=8 \\mu F$"
   ]
  },
  {
   "cell_type": "markdown",
   "metadata": {},
   "source": [
    "### Resumen de parámetros\n",
    "\n",
    "| Parámetro | Valor       |\n",
    "|-----------|-------------|\n",
    "| $P_{N}$     | $4.5 kW $     |\n",
    "| $V_{oN}$    | $400 V$       |\n",
    "| $V_{in}$      | $134.4 - 288V$|\n",
    "| $f_s$       | $50 kHz$      |\n",
    "| $C_L$       | $100 \\mu F$      |\n",
    "| $C_U$       | $22 \\mu F$       |\n",
    "| $C_{RL}$      | $8 \\mu F$        |\n",
    "| $L_{mp}$      | $72.45 \\mu H$    |\n",
    "| $L_{LKp}$     | $7.25 \\mu H$     |\n",
    "| $n$         | $0.8$         |"
   ]
  }
 ],
 "metadata": {
  "kernelspec": {
   "display_name": "Python 3",
   "language": "python",
   "name": "python3"
  },
  "language_info": {
   "codemirror_mode": {
    "name": "ipython",
    "version": 3
   },
   "file_extension": ".py",
   "mimetype": "text/x-python",
   "name": "python",
   "nbconvert_exporter": "python",
   "pygments_lexer": "ipython3",
   "version": "3.11.9"
  }
 },
 "nbformat": 4,
 "nbformat_minor": 2
}
