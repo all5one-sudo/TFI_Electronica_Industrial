{
 "cells": [
  {
   "cell_type": "markdown",
   "metadata": {},
   "source": [
    "# Convertidor semi puente boost compacto (CSPBC)"
   ]
  },
  {
   "cell_type": "code",
   "execution_count": 102,
   "metadata": {},
   "outputs": [],
   "source": [
    "import numpy as np\n",
    "import matplotlib.pyplot as plt\n",
    "import pandas as pd\n",
    "import seaborn as sns\n",
    "import xmlrpc.client as xml\n",
    "from scipy.optimize import fsolve, minimize"
   ]
  },
  {
   "cell_type": "markdown",
   "metadata": {},
   "source": [
    "Se espera obtener un conversor que tenga:\n",
    "\n",
    "- $V_o=400 \\ V_{DC}$\n",
    "- $V_i=48 \\ V_{DC}$\n",
    "- $0 < I_o < 40 \\ A$\n",
    "- Se pueden conectar en paralelo."
   ]
  },
  {
   "cell_type": "markdown",
   "metadata": {},
   "source": [
    "### Características deseadas en el convertidor\n",
    "\n",
    "Se decide por construir un conversor de $4.5 \\ kW$, de forma de aproximar la salida a la máxima corriente solicitada como variación, y se define a la tensión de entrada como $V_{in(max)}=288V$, que equivale a 6 paneles en serie. La frecuencia de conmutación será de $f_s=50 \\ kHz$, $T_s=20 \\ \\mu s$. Se tiene entonces que las tensiones y corrientes del convertidor se definen como la tensión de salida nominal referida al primario del transformador y la corriente máxima de salida nominal referida al primario. Así, se tiene:\n",
    "\n",
    "- $V_{oB}'=n400V$\n",
    "- $I_{oB}'=\\frac{P_n}{nV_o}=\\frac{11.25}{n}A$\n",
    "\n",
    "### Definición de la relación de vueltas del transformador y el rango de tensión de entrada\n",
    "\n",
    "Para trabajar en conmutación suave, es conveniente trabajar con un rango de tensión de entrada de:\n",
    "$$0.42 < V_{inpu} <0.9$$\n",
    "\n",
    "Por lo que se limita en $V_{inpu} <0.9$. Ahora, si reemplazo esa igualdad en el valor de tensión base, se obtiene:\n",
    "\n",
    "$$n > \\frac{V_{in(max)}}{0.9V_{oB}} = 0.8$$\n",
    "\n",
    "Con ese valor de conversión, resulta $V_{oB}'=320V$ y $I_{oB}'=14.06A$. Por la condición de arranque suave, y la máxima tensión definida anteriormente, se tiene que $134.4V < V_{in} < 288 V$.\n",
    "\n",
    "### Definición de los valores de inductancia de dispersión y magnetización del transformador\n",
    "\n",
    "La impedancia base del convertidor a implementar está dada por:\n",
    "\n",
    "$$ R_B=\\frac{V_{oB}'}{I_{oB}'} = \\frac{320V}{14.06A} = 22.76 \\Omega$$\n",
    "\n",
    "Como el período de la señal de conmutación es $T_{sB}=20 \\mu s$ y la inductancia $L_B=\\frac{R_B T_B}{2\\pi}=72.45 \\mu H$. Este último valor se usa para la inductancia de magnetización, y para la de dispersión se usa un 10% de la recientemente calculada.\n",
    "\n",
    "### Definición de los valores de los capacitores del semipuente\n",
    "\n",
    "Se definen:\n",
    "\n",
    "- $C_L=100\\mu F$\n",
    "- $C_U=22 \\mu F$\n",
    "- $C_{RL}=8 \\mu F$"
   ]
  },
  {
   "cell_type": "markdown",
   "metadata": {},
   "source": [
    "### Resumen de parámetros\n",
    "\n",
    "| Parámetro | Valor       |\n",
    "|-----------|-------------|\n",
    "| $P_{N}$     | $4.5 kW $     |\n",
    "| $V_{oN}$    | $400 V$       |\n",
    "| $V_{in}$      | $134.4 - 288V$|\n",
    "| $f_s$       | $50 kHz$      |\n",
    "| $C_L$       | $100 \\mu F$      |\n",
    "| $C_U$       | $22 \\mu F$       |\n",
    "| $C_{RL}$      | $8 \\mu F$        |\n",
    "| $L_{mp}$      | $72.45 \\mu H$    |\n",
    "| $L_{LKp}$     | $7.25 \\mu H$     |\n",
    "| $n$         | $0.8$         |"
   ]
  },
  {
   "cell_type": "code",
   "execution_count": 80,
   "metadata": {},
   "outputs": [],
   "source": [
    "Vinmax = 51\n",
    "Vinmin = 30\n",
    "Vin = 48\n",
    "fs = 50000\n",
    "Ts = 1/fs\n",
    "Vout = 400\n",
    "Iout = 10\n",
    "Lk = 100e-6"
   ]
  },
  {
   "cell_type": "code",
   "execution_count": 67,
   "metadata": {},
   "outputs": [],
   "source": [
    "Dmax = Vinmax/(Vinmin+Vinmax)\n",
    "Dmin = 1-Dmax"
   ]
  },
  {
   "cell_type": "code",
   "execution_count": 77,
   "metadata": {},
   "outputs": [
    {
     "data": {
      "text/plain": [
       "0.6296296296296297"
      ]
     },
     "execution_count": 77,
     "metadata": {},
     "output_type": "execute_result"
    }
   ],
   "source": [
    "Dmax"
   ]
  },
  {
   "cell_type": "code",
   "execution_count": 78,
   "metadata": {},
   "outputs": [],
   "source": [
    "D = 0.5"
   ]
  },
  {
   "cell_type": "code",
   "execution_count": 68,
   "metadata": {},
   "outputs": [],
   "source": [
    "Tres1max = (1-Dmax)*Ts\n",
    "Tres2max = Dmin*Ts"
   ]
  },
  {
   "cell_type": "code",
   "execution_count": 82,
   "metadata": {},
   "outputs": [
    {
     "data": {
      "text/plain": [
       "(7.4074074074074075e-06, 7.4074074074074075e-06)"
      ]
     },
     "execution_count": 82,
     "metadata": {},
     "output_type": "execute_result"
    }
   ],
   "source": [
    "Tres1max, Tres2max"
   ]
  },
  {
   "cell_type": "code",
   "execution_count": 83,
   "metadata": {},
   "outputs": [],
   "source": [
    "Tres1 = Tres2 = 7e-6"
   ]
  },
  {
   "cell_type": "markdown",
   "metadata": {},
   "source": [
    "Para un $D=0.5$:"
   ]
  },
  {
   "cell_type": "code",
   "execution_count": 131,
   "metadata": {},
   "outputs": [
    {
     "data": {
      "text/plain": [
       "81"
      ]
     },
     "execution_count": 131,
     "metadata": {},
     "output_type": "execute_result"
    }
   ],
   "source": [
    "Vbus = Vinmax+Vinmin\n",
    "Vbus"
   ]
  },
  {
   "cell_type": "code",
   "execution_count": 70,
   "metadata": {},
   "outputs": [],
   "source": [
    "n = Vout/Vbus"
   ]
  },
  {
   "cell_type": "code",
   "execution_count": 121,
   "metadata": {},
   "outputs": [
    {
     "data": {
      "text/plain": [
       "4.938271604938271"
      ]
     },
     "execution_count": 121,
     "metadata": {},
     "output_type": "execute_result"
    }
   ],
   "source": [
    "n"
   ]
  },
  {
   "cell_type": "code",
   "execution_count": 72,
   "metadata": {},
   "outputs": [],
   "source": [
    "IL = (1/n)*Iout*1.1"
   ]
  },
  {
   "cell_type": "code",
   "execution_count": 73,
   "metadata": {},
   "outputs": [],
   "source": [
    "riple = 0.05"
   ]
  },
  {
   "cell_type": "code",
   "execution_count": 74,
   "metadata": {},
   "outputs": [],
   "source": [
    "Lin = Vbus*Ts/(4*IL*riple)"
   ]
  },
  {
   "cell_type": "code",
   "execution_count": 130,
   "metadata": {},
   "outputs": [
    {
     "data": {
      "text/plain": [
       "0.0036363636363636355"
      ]
     },
     "execution_count": 130,
     "metadata": {},
     "output_type": "execute_result"
    }
   ],
   "source": [
    "Lin"
   ]
  },
  {
   "cell_type": "code",
   "execution_count": 79,
   "metadata": {},
   "outputs": [],
   "source": [
    "ILrms = np.sqrt(IL**2+D**2*Vinmax*Ts/(12*Lin**2))"
   ]
  },
  {
   "cell_type": "code",
   "execution_count": 109,
   "metadata": {},
   "outputs": [],
   "source": [
    "initial_it = [1e-7, 1e-7]\n",
    "Tres1_values = np.linspace(1e-6, Tres1max, 100)\n",
    "Tres2_values = np.linspace(1e-6, Tres2max, 100)\n",
    "data = []"
   ]
  },
  {
   "cell_type": "code",
   "execution_count": 110,
   "metadata": {},
   "outputs": [],
   "source": [
    "def Tres(vars, Tres1, Tres2):\n",
    "    CL, CH = vars\n",
    "    eq1 = Tres1 - np.pi * np.sqrt((Lk * 2 * CL * n**2 * CH) / (CL + n**2 * CH))\n",
    "    eq2 = Tres2 - np.pi * np.sqrt((2 * Lk * n**2 * CL * CH) / (CL + 2 * n**2 * CH))\n",
    "    return [eq1, eq2]\n"
   ]
  },
  {
   "cell_type": "code",
   "execution_count": 111,
   "metadata": {},
   "outputs": [],
   "source": [
    "def calculate_CL_CH_with_constraints(Tres1, Tres2):\n",
    "    def objective(vars):\n",
    "        return 0  # No importa el valor, solo nos interesa cumplir las restricciones\n",
    "\n",
    "    constraints = [\n",
    "        {'type': 'eq', 'fun': lambda vars: Tres(vars, Tres1, Tres2)[0]},\n",
    "        {'type': 'eq', 'fun': lambda vars: Tres(vars, Tres1, Tres2)[1]},\n",
    "        {'type': 'ineq', 'fun': lambda vars: vars[0]},  # CL >= 0\n",
    "        {'type': 'ineq', 'fun': lambda vars: 100e-6 - vars[0]},  # CL <= 100e-6\n",
    "        {'type': 'ineq', 'fun': lambda vars: vars[1]},  # CH >= 0\n",
    "        {'type': 'ineq', 'fun': lambda vars: 100e-6 - vars[1]}   # CH <= 100e-6\n",
    "    ]\n",
    "\n",
    "    result = minimize(objective, initial_it, constraints=constraints)\n",
    "    return result.x if result.success else (None, None)"
   ]
  },
  {
   "cell_type": "code",
   "execution_count": 112,
   "metadata": {},
   "outputs": [
    {
     "name": "stderr",
     "output_type": "stream",
     "text": [
      "C:\\Users\\fedef\\AppData\\Local\\Temp\\ipykernel_23964\\1326923775.py:3: RuntimeWarning: invalid value encountered in sqrt\n",
      "  eq1 = Tres1 - np.pi * np.sqrt((Lk * 2 * CL * n**2 * CH) / (CL + n**2 * CH))\n",
      "C:\\Users\\fedef\\AppData\\Local\\Temp\\ipykernel_23964\\1326923775.py:4: RuntimeWarning: invalid value encountered in sqrt\n",
      "  eq2 = Tres2 - np.pi * np.sqrt((2 * Lk * n**2 * CL * CH) / (CL + 2 * n**2 * CH))\n"
     ]
    }
   ],
   "source": [
    "for Tres1_val, Tres2_val in zip(Tres1_values, Tres2_values):\n",
    "    CL, CH = calculate_CL_CH_with_constraints(Tres1_val, Tres2_val)\n",
    "    data.append((Tres1_val, Tres2_val, CL, CH))"
   ]
  },
  {
   "cell_type": "code",
   "execution_count": 113,
   "metadata": {},
   "outputs": [],
   "source": [
    "df = pd.DataFrame(data, columns=['Tres1', 'Tres2', 'CL', 'CH'])"
   ]
  },
  {
   "cell_type": "code",
   "execution_count": 114,
   "metadata": {},
   "outputs": [
    {
     "data": {
      "text/html": [
       "<div>\n",
       "<style scoped>\n",
       "    .dataframe tbody tr th:only-of-type {\n",
       "        vertical-align: middle;\n",
       "    }\n",
       "\n",
       "    .dataframe tbody tr th {\n",
       "        vertical-align: top;\n",
       "    }\n",
       "\n",
       "    .dataframe thead th {\n",
       "        text-align: right;\n",
       "    }\n",
       "</style>\n",
       "<table border=\"1\" class=\"dataframe\">\n",
       "  <thead>\n",
       "    <tr style=\"text-align: right;\">\n",
       "      <th></th>\n",
       "      <th>Tres1</th>\n",
       "      <th>Tres2</th>\n",
       "      <th>CL</th>\n",
       "      <th>CH</th>\n",
       "    </tr>\n",
       "  </thead>\n",
       "  <tbody>\n",
       "    <tr>\n",
       "      <th>0</th>\n",
       "      <td>0.000001</td>\n",
       "      <td>0.000001</td>\n",
       "      <td>2.240076e-08</td>\n",
       "      <td>3.956355e-11</td>\n",
       "    </tr>\n",
       "    <tr>\n",
       "      <th>1</th>\n",
       "      <td>0.000001</td>\n",
       "      <td>0.000001</td>\n",
       "      <td>2.366097e-08</td>\n",
       "      <td>4.490126e-11</td>\n",
       "    </tr>\n",
       "    <tr>\n",
       "      <th>2</th>\n",
       "      <td>0.000001</td>\n",
       "      <td>0.000001</td>\n",
       "      <td>2.494978e-08</td>\n",
       "      <td>5.010062e-11</td>\n",
       "    </tr>\n",
       "    <tr>\n",
       "      <th>3</th>\n",
       "      <td>0.000001</td>\n",
       "      <td>0.000001</td>\n",
       "      <td>2.628070e-08</td>\n",
       "      <td>5.496663e-11</td>\n",
       "    </tr>\n",
       "    <tr>\n",
       "      <th>4</th>\n",
       "      <td>0.000001</td>\n",
       "      <td>0.000001</td>\n",
       "      <td>2.767422e-08</td>\n",
       "      <td>5.927506e-11</td>\n",
       "    </tr>\n",
       "    <tr>\n",
       "      <th>...</th>\n",
       "      <td>...</td>\n",
       "      <td>...</td>\n",
       "      <td>...</td>\n",
       "      <td>...</td>\n",
       "    </tr>\n",
       "    <tr>\n",
       "      <th>95</th>\n",
       "      <td>0.000007</td>\n",
       "      <td>0.000007</td>\n",
       "      <td>NaN</td>\n",
       "      <td>NaN</td>\n",
       "    </tr>\n",
       "    <tr>\n",
       "      <th>96</th>\n",
       "      <td>0.000007</td>\n",
       "      <td>0.000007</td>\n",
       "      <td>2.896445e-07</td>\n",
       "      <td>1.070953e-09</td>\n",
       "    </tr>\n",
       "    <tr>\n",
       "      <th>97</th>\n",
       "      <td>0.000007</td>\n",
       "      <td>0.000007</td>\n",
       "      <td>1.092799e-07</td>\n",
       "      <td>1.654026e-09</td>\n",
       "    </tr>\n",
       "    <tr>\n",
       "      <th>98</th>\n",
       "      <td>0.000007</td>\n",
       "      <td>0.000007</td>\n",
       "      <td>1.096257e-07</td>\n",
       "      <td>1.824067e-09</td>\n",
       "    </tr>\n",
       "    <tr>\n",
       "      <th>99</th>\n",
       "      <td>0.000007</td>\n",
       "      <td>0.000007</td>\n",
       "      <td>3.168488e-07</td>\n",
       "      <td>1.464840e-09</td>\n",
       "    </tr>\n",
       "  </tbody>\n",
       "</table>\n",
       "<p>100 rows × 4 columns</p>\n",
       "</div>"
      ],
      "text/plain": [
       "       Tres1     Tres2            CL            CH\n",
       "0   0.000001  0.000001  2.240076e-08  3.956355e-11\n",
       "1   0.000001  0.000001  2.366097e-08  4.490126e-11\n",
       "2   0.000001  0.000001  2.494978e-08  5.010062e-11\n",
       "3   0.000001  0.000001  2.628070e-08  5.496663e-11\n",
       "4   0.000001  0.000001  2.767422e-08  5.927506e-11\n",
       "..       ...       ...           ...           ...\n",
       "95  0.000007  0.000007           NaN           NaN\n",
       "96  0.000007  0.000007  2.896445e-07  1.070953e-09\n",
       "97  0.000007  0.000007  1.092799e-07  1.654026e-09\n",
       "98  0.000007  0.000007  1.096257e-07  1.824067e-09\n",
       "99  0.000007  0.000007  3.168488e-07  1.464840e-09\n",
       "\n",
       "[100 rows x 4 columns]"
      ]
     },
     "execution_count": 114,
     "metadata": {},
     "output_type": "execute_result"
    }
   ],
   "source": [
    "df"
   ]
  },
  {
   "cell_type": "markdown",
   "metadata": {},
   "source": [
    "Se decide utilizar $C_L=316nF$ y $C_H=1.46nF$."
   ]
  },
  {
   "cell_type": "code",
   "execution_count": 125,
   "metadata": {},
   "outputs": [],
   "source": [
    "CL = 316e-6\n",
    "CH = 1.46e-9\n",
    "Tres1 = Tres2 = 7e-6"
   ]
  },
  {
   "cell_type": "code",
   "execution_count": 124,
   "metadata": {},
   "outputs": [
    {
     "data": {
      "image/png": "[encoded data removed]",
      "text/plain": [
       "<Figure size 1400x600 with 2 Axes>"
      ]
     },
     "metadata": {},
     "output_type": "display_data"
    }
   ],
   "source": [
    "plt.figure(figsize=(14, 6))\n",
    "\n",
    "plt.subplot(1, 2, 1)\n",
    "plt.plot(df['Tres1'], df['CL'], label='CL vs Tres1')\n",
    "plt.plot(df['Tres2'], df['CL'], label='CL vs Tres2', linestyle='--')\n",
    "plt.xlabel('Tres (s)')\n",
    "plt.ylabel('CL (H)')\n",
    "plt.title('CL vs Tres')\n",
    "plt.legend()\n",
    "\n",
    "plt.subplot(1, 2, 2)\n",
    "plt.plot(df['Tres1'], df['CH'], label='CH vs Tres1')\n",
    "plt.plot(df['Tres2'], df['CH'], label='CH vs Tres2', linestyle='--')\n",
    "plt.xlabel('Tres (s)')\n",
    "plt.ylabel('CH (H)')\n",
    "plt.title('CH vs Tres')\n",
    "plt.legend()\n",
    "\n",
    "plt.tight_layout()"
   ]
  },
  {
   "cell_type": "code",
   "execution_count": 126,
   "metadata": {},
   "outputs": [],
   "source": [
    "RL = Vout/Iout"
   ]
  },
  {
   "cell_type": "code",
   "execution_count": 127,
   "metadata": {},
   "outputs": [],
   "source": [
    "Vriple = 0.05*Vout"
   ]
  },
  {
   "cell_type": "code",
   "execution_count": 128,
   "metadata": {},
   "outputs": [],
   "source": [
    "C5 = Vout/RL*(Ts/(2*Tres2)-1)*Tres2/Vriple"
   ]
  },
  {
   "cell_type": "code",
   "execution_count": 129,
   "metadata": {},
   "outputs": [
    {
     "data": {
      "text/plain": [
       "1.5000000000000002e-06"
      ]
     },
     "execution_count": 129,
     "metadata": {},
     "output_type": "execute_result"
    }
   ],
   "source": [
    "C5"
   ]
  },
  {
   "cell_type": "markdown",
   "metadata": {},
   "source": [
    "## Simulación"
   ]
  },
  {
   "cell_type": "code",
   "execution_count": 33,
   "metadata": {},
   "outputs": [],
   "source": [
    "model = 'simulation'\n",
    "fyle_type = '.plecs'\n",
    "plecs = xml.Server('http://localhost:1080/RPC2').plecs"
   ]
  }
 ],
 "metadata": {
  "kernelspec": {
   "display_name": "Python 3",
   "language": "python",
   "name": "python3"
  },
  "language_info": {
   "codemirror_mode": {
    "name": "ipython",
    "version": 3
   },
   "file_extension": ".py",
   "mimetype": "text/x-python",
   "name": "python",
   "nbconvert_exporter": "python",
   "pygments_lexer": "ipython3",
   "version": "3.11.9"
  }
 },
 "nbformat": 4,
 "nbformat_minor": 2
}
